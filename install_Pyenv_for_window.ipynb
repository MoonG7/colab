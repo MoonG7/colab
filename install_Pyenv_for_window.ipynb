{
  "nbformat": 4,
  "nbformat_minor": 0,
  "metadata": {
    "colab": {
      "provenance": [],
      "authorship_tag": "ABX9TyPHfoNYOwmKavUdDK7+rU7q",
      "include_colab_link": true
    },
    "kernelspec": {
      "name": "python3",
      "display_name": "Python 3"
    },
    "language_info": {
      "name": "python"
    }
  },
  "cells": [
    {
      "cell_type": "markdown",
      "metadata": {
        "id": "view-in-github",
        "colab_type": "text"
      },
      "source": [
        "<a href=\"https://colab.research.google.com/github/MoonG7/colab/blob/various/install_Pyenv_for_window.ipynb\" target=\"_parent\"><img src=\"https://colab.research.google.com/assets/colab-badge.svg\" alt=\"Open In Colab\"/></a>"
      ]
    },
    {
      "cell_type": "code",
      "execution_count": null,
      "metadata": {
        "id": "ZPeFFcu2IgXW"
      },
      "outputs": [],
      "source": [
        "import os\n",
        "\n",
        "#pyenv-win git clone - pyenv-win 파일이 없으면 다운 받는다\n",
        "if not os.path.exists('pyenv-win'):\n",
        "    !git clone https://github.com/pyenv-win/pyenv-win.git"
      ]
    },
    {
      "cell_type": "code",
      "source": [
        "import os\n",
        "\n",
        "if os.environ.get('PYENV') is None :\n",
        "    #pyenv-win 설치\n",
        "    !powershell -File \"pyenv-win\\pyenv-win\\install-pyenv-win.ps1\"\n",
        "else :\n",
        "    !rmdir /S/Q pyenv-win"
      ],
      "metadata": {
        "id": "bYD4A1W9I-qI"
      },
      "execution_count": null,
      "outputs": []
    },
    {
      "cell_type": "code",
      "source": [
        "#버전확인\n",
        "!pyenv version\n",
        "#파이썬 설치\n",
        "!pyenv install 3.12.4\n",
        "#설치된 파이썬 확인\n",
        "!pyenv versions\n",
        "#파이썬 로컬로 설정\n",
        "!pyenv local 3.12.4\n",
        "#파이썬 글로벌 설정\n",
        "!pyenv global 3.12.4"
      ],
      "metadata": {
        "id": "g6zhtql9JHaI"
      },
      "execution_count": null,
      "outputs": []
    }
  ]
}