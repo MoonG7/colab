{
  "nbformat": 4,
  "nbformat_minor": 0,
  "metadata": {
    "colab": {
      "provenance": [],
      "mount_file_id": "1S_O-vg9DAnqsFeiRGizh6xFF-n10pdL6",
      "authorship_tag": "ABX9TyNpNr74QmB2Z+wsmLfrfG/x",
      "include_colab_link": true
    },
    "kernelspec": {
      "name": "python3",
      "display_name": "Python 3"
    },
    "language_info": {
      "name": "python"
    }
  },
  "cells": [
    {
      "cell_type": "markdown",
      "metadata": {
        "id": "view-in-github",
        "colab_type": "text"
      },
      "source": [
        "<a href=\"https://colab.research.google.com/github/MoonG7/colab/blob/various/intall_vue_linux.ipynb\" target=\"_parent\"><img src=\"https://colab.research.google.com/assets/colab-badge.svg\" alt=\"Open In Colab\"/></a>"
      ]
    },
    {
      "cell_type": "code",
      "source": [],
      "metadata": {
        "id": "XGghI-auugTp"
      },
      "execution_count": null,
      "outputs": []
    },
    {
      "cell_type": "code",
      "source": [
        "# NVM 설치\n",
        "!wget -qO- https://raw.githubusercontent.com/nvm-sh/nvm/v0.39.3/install.sh | bash\n",
        "\n",
        "# NVM 초기화\n",
        "!export NVM_DIR=\"$HOME/.nvm\"\n",
        "!source \"$NVM_DIR/nvm.sh\"\n",
        "\n",
        "# Node.js 설치 (최신 안정 버전)\n",
        "!nvm install --lts\n",
        "\n",
        "# Node.js 및 npm 버전 확인\n",
        "!node -v\n",
        "!npm -v\n"
      ],
      "metadata": {
        "colab": {
          "base_uri": "https://localhost:8080/"
        },
        "id": "7bZP7tbzcs_F",
        "outputId": "85edb228-eb02-4ee4-d459-75354f06fffd"
      },
      "execution_count": null,
      "outputs": [
        {
          "output_type": "stream",
          "name": "stdout",
          "text": [
            "6.14.18\n"
          ]
        }
      ]
    },
    {
      "cell_type": "code",
      "source": [
        "!sudo dpkg --configure -a\n",
        "!sudo apt-get update\n",
        "!sudo apt-get install -f\n",
        "\n",
        "# Install expect\n",
        "!apt-get install expect -y"
      ],
      "metadata": {
        "collapsed": true,
        "id": "L4KUZxWqmeQZ",
        "colab": {
          "base_uri": "https://localhost:8080/"
        },
        "outputId": "2dfd89fa-1f5d-49be-d1cb-ad211930a08f"
      },
      "execution_count": 8,
      "outputs": [
        {
          "output_type": "stream",
          "name": "stdout",
          "text": [
            "\r0% [Working]\r            \rGet:1 https://cloud.r-project.org/bin/linux/ubuntu jammy-cran40/ InRelease [3,626 B]\n",
            "\r0% [Connecting to archive.ubuntu.com (91.189.91.82)] [Connecting to security.ub\r0% [Connecting to archive.ubuntu.com (91.189.91.82)] [Connecting to security.ub\r                                                                               \rGet:2 https://developer.download.nvidia.com/compute/cuda/repos/ubuntu2204/x86_64  InRelease [1,581 B]\n",
            "\r0% [Waiting for headers] [Waiting for headers] [Connecting to ppa.launchpadcont\r0% [Waiting for headers] [Waiting for headers] [Connecting to ppa.launchpadcont\r                                                                               \rHit:3 http://archive.ubuntu.com/ubuntu jammy InRelease\n",
            "Get:4 http://security.ubuntu.com/ubuntu jammy-security InRelease [129 kB]\n",
            "Get:5 http://archive.ubuntu.com/ubuntu jammy-updates InRelease [128 kB]\n",
            "Get:6 https://developer.download.nvidia.com/compute/cuda/repos/ubuntu2204/x86_64  Packages [859 kB]\n",
            "Get:7 https://cloud.r-project.org/bin/linux/ubuntu jammy-cran40/ Packages [55.6 kB]\n",
            "Get:8 http://archive.ubuntu.com/ubuntu jammy-backports InRelease [127 kB]\n",
            "Hit:9 https://ppa.launchpadcontent.net/c2d4u.team/c2d4u4.0+/ubuntu jammy InRelease\n",
            "Get:10 https://ppa.launchpadcontent.net/deadsnakes/ppa/ubuntu jammy InRelease [18.1 kB]\n",
            "Get:11 http://security.ubuntu.com/ubuntu jammy-security/restricted amd64 Packages [2,707 kB]\n",
            "Get:12 https://ppa.launchpadcontent.net/graphics-drivers/ppa/ubuntu jammy InRelease [24.3 kB]\n",
            "Hit:13 https://ppa.launchpadcontent.net/ubuntugis/ppa/ubuntu jammy InRelease\n",
            "Get:14 http://archive.ubuntu.com/ubuntu jammy-updates/main amd64 Packages [2,329 kB]\n",
            "Get:15 http://security.ubuntu.com/ubuntu jammy-security/multiverse amd64 Packages [44.7 kB]\n",
            "Get:16 http://security.ubuntu.com/ubuntu jammy-security/universe amd64 Packages [1,128 kB]\n",
            "Get:17 http://security.ubuntu.com/ubuntu jammy-security/main amd64 Packages [2,064 kB]\n",
            "Get:18 http://archive.ubuntu.com/ubuntu jammy-updates/universe amd64 Packages [1,419 kB]\n",
            "Get:19 http://archive.ubuntu.com/ubuntu jammy-updates/restricted amd64 Packages [2,781 kB]\n",
            "Get:20 http://archive.ubuntu.com/ubuntu jammy-updates/multiverse amd64 Packages [51.8 kB]\n",
            "Get:21 http://archive.ubuntu.com/ubuntu jammy-backports/main amd64 Packages [81.0 kB]\n",
            "Get:22 http://archive.ubuntu.com/ubuntu jammy-backports/universe amd64 Packages [33.7 kB]\n",
            "Get:23 https://ppa.launchpadcontent.net/deadsnakes/ppa/ubuntu jammy/main amd64 Packages [27.8 kB]\n",
            "Get:24 https://ppa.launchpadcontent.net/graphics-drivers/ppa/ubuntu jammy/main amd64 Packages [48.1 kB]\n",
            "Fetched 14.1 MB in 3s (4,388 kB/s)\n",
            "Reading package lists... Done\n",
            "Reading package lists... Done\n",
            "Building dependency tree... Done\n",
            "Reading state information... Done\n",
            "0 upgraded, 0 newly installed, 0 to remove and 113 not upgraded.\n",
            "Reading package lists... Done\n",
            "Building dependency tree... Done\n",
            "Reading state information... Done\n",
            "The following additional packages will be installed:\n",
            "  tcl-expect\n",
            "The following NEW packages will be installed:\n",
            "  expect tcl-expect\n",
            "0 upgraded, 2 newly installed, 0 to remove and 113 not upgraded.\n",
            "Need to get 242 kB of archives.\n",
            "After this operation, 549 kB of additional disk space will be used.\n",
            "Get:1 http://archive.ubuntu.com/ubuntu jammy/universe amd64 tcl-expect amd64 5.45.4-2build1 [105 kB]\n",
            "Get:2 http://archive.ubuntu.com/ubuntu jammy/universe amd64 expect amd64 5.45.4-2build1 [137 kB]\n",
            "Fetched 242 kB in 1s (481 kB/s)\n",
            "Selecting previously unselected package tcl-expect:amd64.\n",
            "(Reading database ... 121920 files and directories currently installed.)\n",
            "Preparing to unpack .../tcl-expect_5.45.4-2build1_amd64.deb ...\n",
            "Unpacking tcl-expect:amd64 (5.45.4-2build1) ...\n",
            "Selecting previously unselected package expect.\n",
            "Preparing to unpack .../expect_5.45.4-2build1_amd64.deb ...\n",
            "Unpacking expect (5.45.4-2build1) ...\n",
            "Setting up tcl-expect:amd64 (5.45.4-2build1) ...\n",
            "Setting up expect (5.45.4-2build1) ...\n",
            "Processing triggers for man-db (2.10.2-1) ...\n",
            "Processing triggers for libc-bin (2.35-0ubuntu3.4) ...\n",
            "/sbin/ldconfig.real: /usr/local/lib/libtbbbind_2_5.so.3 is not a symbolic link\n",
            "\n",
            "/sbin/ldconfig.real: /usr/local/lib/libtbbmalloc_proxy.so.2 is not a symbolic link\n",
            "\n",
            "/sbin/ldconfig.real: /usr/local/lib/libtbbmalloc.so.2 is not a symbolic link\n",
            "\n",
            "/sbin/ldconfig.real: /usr/local/lib/libtbb.so.12 is not a symbolic link\n",
            "\n",
            "/sbin/ldconfig.real: /usr/local/lib/libtbbbind_2_0.so.3 is not a symbolic link\n",
            "\n",
            "/sbin/ldconfig.real: /usr/local/lib/libtbbbind.so.3 is not a symbolic link\n",
            "\n"
          ]
        }
      ]
    },
    {
      "cell_type": "code",
      "execution_count": 9,
      "metadata": {
        "colab": {
          "base_uri": "https://localhost:8080/"
        },
        "id": "pqzqjnE6OlFj",
        "outputId": "b6f6a55f-96cb-4bd3-f8c1-c236a01f14af"
      },
      "outputs": [
        {
          "output_type": "stream",
          "name": "stdout",
          "text": [
            "spawn npx create-vite\n",
            "\u001b[K\u001b[?25hnpx: installed 1 in 2.235s\n",
            "\u001b[2K\u001b[1G\u001b[36m?\u001b[39m \u001b[1m\u001b[0mProject name:\u001b[0m\u001b[22m \u001b[90m›\u001b[39m \u001b[90mvite-project\u001b[39m\u001b7\u001b8\u001b[2K\u001b[1G\u001b[2K\u001b[1G\u001b[36m?\u001b[39m \u001b[1m\u001b[0mProject name:\u001b[0m\u001b[22m \u001b[90m›\u001b[39m m\u001b7\u001b8\u001b[2K\u001b[1G\u001b[2K\u001b[1G\u001b[36m?\u001b[39m \u001b[1m\u001b[0mProject name:\u001b[0m\u001b[22m \u001b[90m›\u001b[39m my\u001b7\u001b8\u001b[2K\u001b[1G\u001b[2K\u001b[1G\u001b[36m?\u001b[39m \u001b[1m\u001b[0mProject name:\u001b[0m\u001b[22m \u001b[90m›\u001b[39m my-\u001b7\u001b8\u001b[2K\u001b[1G\u001b[2K\u001b[1G\u001b[36m?\u001b[39m \u001b[1m\u001b[0mProject name:\u001b[0m\u001b[22m \u001b[90m›\u001b[39m my-v\u001b7\u001b8\u001b[2K\u001b[1G\u001b[2K\u001b[1G\u001b[36m?\u001b[39m \u001b[1m\u001b[0mProject name:\u001b[0m\u001b[22m \u001b[90m›\u001b[39m my-vi\u001b7\u001b8\u001b[2K\u001b[1G\u001b[2K\u001b[1G\u001b[36m?\u001b[39m \u001b[1m\u001b[0mProject name:\u001b[0m\u001b[22m \u001b[90m›\u001b[39m my-vit\u001b7\u001b8\u001b[2K\u001b[1G\u001b[2K\u001b[1G\u001b[36m?\u001b[39m \u001b[1m\u001b[0mProject name:\u001b[0m\u001b[22m \u001b[90m›\u001b[39m my-vite\u001b7\u001b8\u001b[2K\u001b[1G\u001b[2K\u001b[1G\u001b[36m?\u001b[39m \u001b[1m\u001b[0mProject name:\u001b[0m\u001b[22m \u001b[90m›\u001b[39m my-vite-\u001b7\u001b8\u001b[2K\u001b[1G\u001b[2K\u001b[1G\u001b[36m?\u001b[39m \u001b[1m\u001b[0mProject name:\u001b[0m\u001b[22m \u001b[90m›\u001b[39m my-vite-p\u001b7\u001b8\u001b[2K\u001b[1G\u001b[2K\u001b[1G\u001b[36m?\u001b[39m \u001b[1m\u001b[0mProject name:\u001b[0m\u001b[22m \u001b[90m›\u001b[39m my-vite-pr\u001b7\u001b8\u001b[2K\u001b[1G\u001b[2K\u001b[1G\u001b[36m?\u001b[39m \u001b[1m\u001b[0mProject name:\u001b[0m\u001b[22m \u001b[90m›\u001b[39m my-vite-pro\u001b7\u001b8\u001b[2K\u001b[1G\u001b[2K\u001b[1G\u001b[36m?\u001b[39m \u001b[1m\u001b[0mProject name:\u001b[0m\u001b[22m \u001b[90m›\u001b[39m my-vite-proj\u001b7\u001b8\u001b[2K\u001b[1G\u001b[2K\u001b[1G\u001b[36m?\u001b[39m \u001b[1m\u001b[0mProject name:\u001b[0m\u001b[22m \u001b[90m›\u001b[39m my-vite-proje\u001b7\u001b8\u001b[2K\u001b[1G\u001b[2K\u001b[1G\u001b[36m?\u001b[39m \u001b[1m\u001b[0mProject name:\u001b[0m\u001b[22m \u001b[90m›\u001b[39m my-vite-projec\u001b7\u001b8\u001b[2K\u001b[1G\u001b[2K\u001b[1G\u001b[36m?\u001b[39m \u001b[1m\u001b[0mProject name:\u001b[0m\u001b[22m \u001b[90m›\u001b[39m my-vite-project\u001b7\u001b8\u001b[2K\u001b[1G\u001b[2K\u001b[1G\u001b[32m✔\u001b[39m \u001b[1m\u001b[0mProject name:\u001b[0m\u001b[22m \u001b[90m…\u001b[39m my-vite-project\u001b7\u001b8\n",
            "\u001b[?25h\u001b[?25l\u001b[36m?\u001b[39m \u001b[1m\u001b[0mSelect a framework:\u001b[0m\u001b[22m \u001b[90m›\u001b[39m \u001b[90m- Use arrow-keys. Return to submit.\u001b[39m\n",
            "\u001b[36m❯\u001b[39m   \u001b[36m\u001b[4m\u001b[33mVanilla\u001b[39m\u001b[36m\u001b[39m\u001b[24m\u001b[90m\u001b[39m\n",
            "    \u001b[32mVue\u001b[39m\u001b[90m\u001b[39m\n",
            "    \u001b[36mReact\u001b[39m\u001b[90m\u001b[39m\n",
            "    \u001b[35mPreact\u001b[39m\u001b[90m\u001b[39m\n",
            "    \u001b[91mLit\u001b[39m\u001b[90m\u001b[39m\n",
            "    \u001b[31mSvelte\u001b[39m\u001b[90m\u001b[39m\n",
            "    \u001b[34mSolid\u001b[39m\u001b[90m\u001b[39m\n",
            "    \u001b[94mQwik\u001b[39m\u001b[90m\u001b[39m\n",
            "    \u001b[0mOthers\u001b[0m\u001b[90m\u001b[39m\n",
            "\u001b[2K\u001b[1G\u001b[36m?\u001b[39m \u001b[1m\u001b[0mSelect a framework:\u001b[0m\u001b[22m \u001b[90m›\u001b[39m \u001b[90m- Use arrow-keys. Return to submit.\u001b[39m\n",
            "    \u001b[33mVanilla\u001b[39m\u001b[90m\u001b[39m\n",
            "\u001b[36m❯\u001b[39m   \u001b[36m\u001b[4m\u001b[32mVue\u001b[39m\u001b[36m\u001b[39m\u001b[24m\u001b[90m\u001b[39m\n",
            "    \u001b[36mReact\u001b[39m\u001b[90m\u001b[39m\n",
            "    \u001b[35mPreact\u001b[39m\u001b[90m\u001b[39m\n",
            "    \u001b[91mLit\u001b[39m\u001b[90m\u001b[39m\n",
            "    \u001b[31mSvelte\u001b[39m\u001b[90m\u001b[39m\n",
            "    \u001b[34mSolid\u001b[39m\u001b[90m\u001b[39m\n",
            "    \u001b[94mQwik\u001b[39m\u001b[90m\u001b[39m\n",
            "    \u001b[0mOthers\u001b[0m\u001b[90m\u001b[39m\n",
            "\u001b[2K\u001b[1G\u001b[32m✔\u001b[39m \u001b[1m\u001b[0mSelect a framework:\u001b[0m\u001b[22m \u001b[90m›\u001b[39m \u001b[32mVue\u001b[39m\n",
            "\u001b[?25h\u001b[?25l\u001b[36m?\u001b[39m \u001b[1m\u001b[0mSelect a variant:\u001b[0m\u001b[22m \u001b[90m›\u001b[39m \u001b[90m- Use arrow-keys. Return to submit.\u001b[39m\n",
            "\u001b[36m❯\u001b[39m   \u001b[36m\u001b[4m\u001b[34mTypeScript\u001b[39m\u001b[36m\u001b[39m\u001b[24m\u001b[90m\u001b[39m\n",
            "    \u001b[33mJavaScript\u001b[39m\u001b[90m\u001b[39m\n",
            "    \u001b[32mCustomize with create-vue ↗\u001b[39m\u001b[90m\u001b[39m\n",
            "    \u001b[92mNuxt ↗\u001b[39m\u001b[90m\u001b[39m\n",
            "\u001b[2K\u001b[1G\u001b[32m✔\u001b[39m \u001b[1m\u001b[0mSelect a variant:\u001b[0m\u001b[22m \u001b[90m›\u001b[39m \u001b[34mTypeScript\u001b[39m\n",
            "\u001b[?25h\n",
            "Scaffolding project in /content/my-vite-project...\n",
            "\n",
            "Done. Now run:\n",
            "\n",
            "  cd my-vite-project\n",
            "  npm install\n",
            "  npm run dev\n",
            "\n"
          ]
        }
      ],
      "source": [
        "# Create the expect script\n",
        "expect_script = \"\"\"\n",
        "set timeout -1\n",
        "spawn npx create-vite\n",
        "expect \"Project name:\"\n",
        "send \"my-vite-project\\r\"\n",
        "expect \"Select a framework:\"\n",
        "send -- \"\\\\033\\[B\"\n",
        "send -- \"\\\\r\"\n",
        "expect \"Select a variant:\"\n",
        "send -- \"\\\\r\"\n",
        "interact\n",
        "\"\"\"\n",
        "\n",
        "# Write the expect script to a file\n",
        "with open(\"select_framework.exp\", \"w\") as file:\n",
        "    file.write(expect_script)\n",
        "\n",
        "# run the script\n",
        "!expect select_framework.exp"
      ]
    },
    {
      "cell_type": "code",
      "source": [
        "\n",
        "%cd /content/my-vite-project\n",
        "\n",
        "!npm install\n",
        "!npm run dev"
      ],
      "metadata": {
        "colab": {
          "base_uri": "https://localhost:8080/"
        },
        "id": "JNVIbz-RrlwD",
        "outputId": "8ab3f4eb-36cd-4856-fc42-d4b674dc8b9c"
      },
      "execution_count": 19,
      "outputs": [
        {
          "output_type": "stream",
          "name": "stdout",
          "text": [
            "\u001b[K\u001b[?25h\u001b[37;40mnpm\u001b[0m \u001b[0m\u001b[30;43mWARN\u001b[0m \u001b[0m\u001b[35moptional\u001b[0m SKIPPING OPTIONAL DEPENDENCY: @esbuild/aix-ppc64@0.21.5 (node_modules/@esbuild/aix-ppc64):\n",
            "\u001b[0m\u001b[37;40mnpm\u001b[0m \u001b[0m\u001b[30;43mWARN\u001b[0m \u001b[0m\u001b[35mnotsup\u001b[0m SKIPPING OPTIONAL DEPENDENCY: Unsupported platform for @esbuild/aix-ppc64@0.21.5: wanted {\"os\":\"aix\",\"arch\":\"ppc64\"} (current: {\"os\":\"linux\",\"arch\":\"x64\"})\n",
            "\u001b[0m\u001b[37;40mnpm\u001b[0m \u001b[0m\u001b[30;43mWARN\u001b[0m \u001b[0m\u001b[35moptional\u001b[0m SKIPPING OPTIONAL DEPENDENCY: @esbuild/android-arm@0.21.5 (node_modules/@esbuild/android-arm):\n",
            "\u001b[0m\u001b[37;40mnpm\u001b[0m \u001b[0m\u001b[30;43mWARN\u001b[0m \u001b[0m\u001b[35mnotsup\u001b[0m SKIPPING OPTIONAL DEPENDENCY: Unsupported platform for @esbuild/android-arm@0.21.5: wanted {\"os\":\"android\",\"arch\":\"arm\"} (current: {\"os\":\"linux\",\"arch\":\"x64\"})\n",
            "\u001b[0m\u001b[37;40mnpm\u001b[0m \u001b[0m\u001b[30;43mWARN\u001b[0m \u001b[0m\u001b[35moptional\u001b[0m SKIPPING OPTIONAL DEPENDENCY: @esbuild/android-arm64@0.21.5 (node_modules/@esbuild/android-arm64):\n",
            "\u001b[0m\u001b[37;40mnpm\u001b[0m \u001b[0m\u001b[30;43mWARN\u001b[0m \u001b[0m\u001b[35mnotsup\u001b[0m SKIPPING OPTIONAL DEPENDENCY: Unsupported platform for @esbuild/android-arm64@0.21.5: wanted {\"os\":\"android\",\"arch\":\"arm64\"} (current: {\"os\":\"linux\",\"arch\":\"x64\"})\n",
            "\u001b[0m\u001b[37;40mnpm\u001b[0m \u001b[0m\u001b[30;43mWARN\u001b[0m \u001b[0m\u001b[35moptional\u001b[0m SKIPPING OPTIONAL DEPENDENCY: @esbuild/android-x64@0.21.5 (node_modules/@esbuild/android-x64):\n",
            "\u001b[0m\u001b[37;40mnpm\u001b[0m \u001b[0m\u001b[30;43mWARN\u001b[0m \u001b[0m\u001b[35mnotsup\u001b[0m SKIPPING OPTIONAL DEPENDENCY: Unsupported platform for @esbuild/android-x64@0.21.5: wanted {\"os\":\"android\",\"arch\":\"x64\"} (current: {\"os\":\"linux\",\"arch\":\"x64\"})\n",
            "\u001b[0m\u001b[37;40mnpm\u001b[0m \u001b[0m\u001b[30;43mWARN\u001b[0m \u001b[0m\u001b[35moptional\u001b[0m SKIPPING OPTIONAL DEPENDENCY: @esbuild/darwin-arm64@0.21.5 (node_modules/@esbuild/darwin-arm64):\n",
            "\u001b[0m\u001b[37;40mnpm\u001b[0m \u001b[0m\u001b[30;43mWARN\u001b[0m \u001b[0m\u001b[35mnotsup\u001b[0m SKIPPING OPTIONAL DEPENDENCY: Unsupported platform for @esbuild/darwin-arm64@0.21.5: wanted {\"os\":\"darwin\",\"arch\":\"arm64\"} (current: {\"os\":\"linux\",\"arch\":\"x64\"})\n",
            "\u001b[0m\u001b[37;40mnpm\u001b[0m \u001b[0m\u001b[30;43mWARN\u001b[0m \u001b[0m\u001b[35moptional\u001b[0m SKIPPING OPTIONAL DEPENDENCY: @esbuild/darwin-x64@0.21.5 (node_modules/@esbuild/darwin-x64):\n",
            "\u001b[0m\u001b[37;40mnpm\u001b[0m \u001b[0m\u001b[30;43mWARN\u001b[0m \u001b[0m\u001b[35mnotsup\u001b[0m SKIPPING OPTIONAL DEPENDENCY: Unsupported platform for @esbuild/darwin-x64@0.21.5: wanted {\"os\":\"darwin\",\"arch\":\"x64\"} (current: {\"os\":\"linux\",\"arch\":\"x64\"})\n",
            "\u001b[0m\u001b[37;40mnpm\u001b[0m \u001b[0m\u001b[30;43mWARN\u001b[0m \u001b[0m\u001b[35moptional\u001b[0m SKIPPING OPTIONAL DEPENDENCY: @esbuild/freebsd-arm64@0.21.5 (node_modules/@esbuild/freebsd-arm64):\n",
            "\u001b[0m\u001b[37;40mnpm\u001b[0m \u001b[0m\u001b[30;43mWARN\u001b[0m \u001b[0m\u001b[35mnotsup\u001b[0m SKIPPING OPTIONAL DEPENDENCY: Unsupported platform for @esbuild/freebsd-arm64@0.21.5: wanted {\"os\":\"freebsd\",\"arch\":\"arm64\"} (current: {\"os\":\"linux\",\"arch\":\"x64\"})\n",
            "\u001b[0m\u001b[37;40mnpm\u001b[0m \u001b[0m\u001b[30;43mWARN\u001b[0m \u001b[0m\u001b[35moptional\u001b[0m SKIPPING OPTIONAL DEPENDENCY: @esbuild/freebsd-x64@0.21.5 (node_modules/@esbuild/freebsd-x64):\n",
            "\u001b[0m\u001b[37;40mnpm\u001b[0m \u001b[0m\u001b[30;43mWARN\u001b[0m \u001b[0m\u001b[35mnotsup\u001b[0m SKIPPING OPTIONAL DEPENDENCY: Unsupported platform for @esbuild/freebsd-x64@0.21.5: wanted {\"os\":\"freebsd\",\"arch\":\"x64\"} (current: {\"os\":\"linux\",\"arch\":\"x64\"})\n",
            "\u001b[0m\u001b[37;40mnpm\u001b[0m \u001b[0m\u001b[30;43mWARN\u001b[0m \u001b[0m\u001b[35moptional\u001b[0m SKIPPING OPTIONAL DEPENDENCY: @esbuild/linux-arm@0.21.5 (node_modules/@esbuild/linux-arm):\n",
            "\u001b[0m\u001b[37;40mnpm\u001b[0m \u001b[0m\u001b[30;43mWARN\u001b[0m \u001b[0m\u001b[35mnotsup\u001b[0m SKIPPING OPTIONAL DEPENDENCY: Unsupported platform for @esbuild/linux-arm@0.21.5: wanted {\"os\":\"linux\",\"arch\":\"arm\"} (current: {\"os\":\"linux\",\"arch\":\"x64\"})\n",
            "\u001b[0m\u001b[37;40mnpm\u001b[0m \u001b[0m\u001b[30;43mWARN\u001b[0m \u001b[0m\u001b[35moptional\u001b[0m SKIPPING OPTIONAL DEPENDENCY: @esbuild/linux-arm64@0.21.5 (node_modules/@esbuild/linux-arm64):\n",
            "\u001b[0m\u001b[37;40mnpm\u001b[0m \u001b[0m\u001b[30;43mWARN\u001b[0m \u001b[0m\u001b[35mnotsup\u001b[0m SKIPPING OPTIONAL DEPENDENCY: Unsupported platform for @esbuild/linux-arm64@0.21.5: wanted {\"os\":\"linux\",\"arch\":\"arm64\"} (current: {\"os\":\"linux\",\"arch\":\"x64\"})\n",
            "\u001b[0m\u001b[37;40mnpm\u001b[0m \u001b[0m\u001b[30;43mWARN\u001b[0m \u001b[0m\u001b[35moptional\u001b[0m SKIPPING OPTIONAL DEPENDENCY: @esbuild/linux-ia32@0.21.5 (node_modules/@esbuild/linux-ia32):\n",
            "\u001b[0m\u001b[37;40mnpm\u001b[0m \u001b[0m\u001b[30;43mWARN\u001b[0m \u001b[0m\u001b[35mnotsup\u001b[0m SKIPPING OPTIONAL DEPENDENCY: Unsupported platform for @esbuild/linux-ia32@0.21.5: wanted {\"os\":\"linux\",\"arch\":\"ia32\"} (current: {\"os\":\"linux\",\"arch\":\"x64\"})\n",
            "\u001b[0m\u001b[37;40mnpm\u001b[0m \u001b[0m\u001b[30;43mWARN\u001b[0m \u001b[0m\u001b[35moptional\u001b[0m SKIPPING OPTIONAL DEPENDENCY: @esbuild/linux-loong64@0.21.5 (node_modules/@esbuild/linux-loong64):\n",
            "\u001b[0m\u001b[37;40mnpm\u001b[0m \u001b[0m\u001b[30;43mWARN\u001b[0m \u001b[0m\u001b[35mnotsup\u001b[0m SKIPPING OPTIONAL DEPENDENCY: Unsupported platform for @esbuild/linux-loong64@0.21.5: wanted {\"os\":\"linux\",\"arch\":\"loong64\"} (current: {\"os\":\"linux\",\"arch\":\"x64\"})\n",
            "\u001b[0m\u001b[37;40mnpm\u001b[0m \u001b[0m\u001b[30;43mWARN\u001b[0m \u001b[0m\u001b[35moptional\u001b[0m SKIPPING OPTIONAL DEPENDENCY: @esbuild/linux-mips64el@0.21.5 (node_modules/@esbuild/linux-mips64el):\n",
            "\u001b[0m\u001b[37;40mnpm\u001b[0m \u001b[0m\u001b[30;43mWARN\u001b[0m \u001b[0m\u001b[35mnotsup\u001b[0m SKIPPING OPTIONAL DEPENDENCY: Unsupported platform for @esbuild/linux-mips64el@0.21.5: wanted {\"os\":\"linux\",\"arch\":\"mips64el\"} (current: {\"os\":\"linux\",\"arch\":\"x64\"})\n",
            "\u001b[0m\u001b[37;40mnpm\u001b[0m \u001b[0m\u001b[30;43mWARN\u001b[0m \u001b[0m\u001b[35moptional\u001b[0m SKIPPING OPTIONAL DEPENDENCY: @esbuild/linux-ppc64@0.21.5 (node_modules/@esbuild/linux-ppc64):\n",
            "\u001b[0m\u001b[37;40mnpm\u001b[0m \u001b[0m\u001b[30;43mWARN\u001b[0m \u001b[0m\u001b[35mnotsup\u001b[0m SKIPPING OPTIONAL DEPENDENCY: Unsupported platform for @esbuild/linux-ppc64@0.21.5: wanted {\"os\":\"linux\",\"arch\":\"ppc64\"} (current: {\"os\":\"linux\",\"arch\":\"x64\"})\n",
            "\u001b[0m\u001b[37;40mnpm\u001b[0m \u001b[0m\u001b[30;43mWARN\u001b[0m \u001b[0m\u001b[35moptional\u001b[0m SKIPPING OPTIONAL DEPENDENCY: @esbuild/linux-riscv64@0.21.5 (node_modules/@esbuild/linux-riscv64):\n",
            "\u001b[0m\u001b[37;40mnpm\u001b[0m \u001b[0m\u001b[30;43mWARN\u001b[0m \u001b[0m\u001b[35mnotsup\u001b[0m SKIPPING OPTIONAL DEPENDENCY: Unsupported platform for @esbuild/linux-riscv64@0.21.5: wanted {\"os\":\"linux\",\"arch\":\"riscv64\"} (current: {\"os\":\"linux\",\"arch\":\"x64\"})\n",
            "\u001b[0m\u001b[37;40mnpm\u001b[0m \u001b[0m\u001b[30;43mWARN\u001b[0m \u001b[0m\u001b[35moptional\u001b[0m SKIPPING OPTIONAL DEPENDENCY: @esbuild/linux-s390x@0.21.5 (node_modules/@esbuild/linux-s390x):\n",
            "\u001b[0m\u001b[37;40mnpm\u001b[0m \u001b[0m\u001b[30;43mWARN\u001b[0m \u001b[0m\u001b[35mnotsup\u001b[0m SKIPPING OPTIONAL DEPENDENCY: Unsupported platform for @esbuild/linux-s390x@0.21.5: wanted {\"os\":\"linux\",\"arch\":\"s390x\"} (current: {\"os\":\"linux\",\"arch\":\"x64\"})\n",
            "\u001b[0m\u001b[37;40mnpm\u001b[0m \u001b[0m\u001b[30;43mWARN\u001b[0m \u001b[0m\u001b[35moptional\u001b[0m SKIPPING OPTIONAL DEPENDENCY: @esbuild/netbsd-x64@0.21.5 (node_modules/@esbuild/netbsd-x64):\n",
            "\u001b[0m\u001b[37;40mnpm\u001b[0m \u001b[0m\u001b[30;43mWARN\u001b[0m \u001b[0m\u001b[35mnotsup\u001b[0m SKIPPING OPTIONAL DEPENDENCY: Unsupported platform for @esbuild/netbsd-x64@0.21.5: wanted {\"os\":\"netbsd\",\"arch\":\"x64\"} (current: {\"os\":\"linux\",\"arch\":\"x64\"})\n",
            "\u001b[0m\u001b[37;40mnpm\u001b[0m \u001b[0m\u001b[30;43mWARN\u001b[0m \u001b[0m\u001b[35moptional\u001b[0m SKIPPING OPTIONAL DEPENDENCY: @esbuild/openbsd-x64@0.21.5 (node_modules/@esbuild/openbsd-x64):\n",
            "\u001b[0m\u001b[37;40mnpm\u001b[0m \u001b[0m\u001b[30;43mWARN\u001b[0m \u001b[0m\u001b[35mnotsup\u001b[0m SKIPPING OPTIONAL DEPENDENCY: Unsupported platform for @esbuild/openbsd-x64@0.21.5: wanted {\"os\":\"openbsd\",\"arch\":\"x64\"} (current: {\"os\":\"linux\",\"arch\":\"x64\"})\n",
            "\u001b[0m\u001b[37;40mnpm\u001b[0m \u001b[0m\u001b[30;43mWARN\u001b[0m \u001b[0m\u001b[35moptional\u001b[0m SKIPPING OPTIONAL DEPENDENCY: @esbuild/sunos-x64@0.21.5 (node_modules/@esbuild/sunos-x64):\n",
            "\u001b[0m\u001b[37;40mnpm\u001b[0m \u001b[0m\u001b[30;43mWARN\u001b[0m \u001b[0m\u001b[35mnotsup\u001b[0m SKIPPING OPTIONAL DEPENDENCY: Unsupported platform for @esbuild/sunos-x64@0.21.5: wanted {\"os\":\"sunos\",\"arch\":\"x64\"} (current: {\"os\":\"linux\",\"arch\":\"x64\"})\n",
            "\u001b[0m\u001b[37;40mnpm\u001b[0m \u001b[0m\u001b[30;43mWARN\u001b[0m \u001b[0m\u001b[35moptional\u001b[0m SKIPPING OPTIONAL DEPENDENCY: @esbuild/win32-arm64@0.21.5 (node_modules/@esbuild/win32-arm64):\n",
            "\u001b[0m\u001b[37;40mnpm\u001b[0m \u001b[0m\u001b[30;43mWARN\u001b[0m \u001b[0m\u001b[35mnotsup\u001b[0m SKIPPING OPTIONAL DEPENDENCY: Unsupported platform for @esbuild/win32-arm64@0.21.5: wanted {\"os\":\"win32\",\"arch\":\"arm64\"} (current: {\"os\":\"linux\",\"arch\":\"x64\"})\n",
            "\u001b[0m\u001b[37;40mnpm\u001b[0m \u001b[0m\u001b[30;43mWARN\u001b[0m \u001b[0m\u001b[35moptional\u001b[0m SKIPPING OPTIONAL DEPENDENCY: @esbuild/win32-ia32@0.21.5 (node_modules/@esbuild/win32-ia32):\n",
            "\u001b[0m\u001b[37;40mnpm\u001b[0m \u001b[0m\u001b[30;43mWARN\u001b[0m \u001b[0m\u001b[35mnotsup\u001b[0m SKIPPING OPTIONAL DEPENDENCY: Unsupported platform for @esbuild/win32-ia32@0.21.5: wanted {\"os\":\"win32\",\"arch\":\"ia32\"} (current: {\"os\":\"linux\",\"arch\":\"x64\"})\n",
            "\u001b[0m\u001b[37;40mnpm\u001b[0m \u001b[0m\u001b[30;43mWARN\u001b[0m \u001b[0m\u001b[35moptional\u001b[0m SKIPPING OPTIONAL DEPENDENCY: @esbuild/win32-x64@0.21.5 (node_modules/@esbuild/win32-x64):\n",
            "\u001b[0m\u001b[37;40mnpm\u001b[0m \u001b[0m\u001b[30;43mWARN\u001b[0m \u001b[0m\u001b[35mnotsup\u001b[0m SKIPPING OPTIONAL DEPENDENCY: Unsupported platform for @esbuild/win32-x64@0.21.5: wanted {\"os\":\"win32\",\"arch\":\"x64\"} (current: {\"os\":\"linux\",\"arch\":\"x64\"})\n",
            "\u001b[0m\u001b[37;40mnpm\u001b[0m \u001b[0m\u001b[30;43mWARN\u001b[0m \u001b[0m\u001b[35moptional\u001b[0m SKIPPING OPTIONAL DEPENDENCY: @rollup/rollup-android-arm-eabi@4.18.1 (node_modules/@rollup/rollup-android-arm-eabi):\n",
            "\u001b[0m\u001b[37;40mnpm\u001b[0m \u001b[0m\u001b[30;43mWARN\u001b[0m \u001b[0m\u001b[35mnotsup\u001b[0m SKIPPING OPTIONAL DEPENDENCY: Unsupported platform for @rollup/rollup-android-arm-eabi@4.18.1: wanted {\"os\":\"android\",\"arch\":\"arm\"} (current: {\"os\":\"linux\",\"arch\":\"x64\"})\n",
            "\u001b[0m\u001b[37;40mnpm\u001b[0m \u001b[0m\u001b[30;43mWARN\u001b[0m \u001b[0m\u001b[35moptional\u001b[0m SKIPPING OPTIONAL DEPENDENCY: @rollup/rollup-android-arm64@4.18.1 (node_modules/@rollup/rollup-android-arm64):\n",
            "\u001b[0m\u001b[37;40mnpm\u001b[0m \u001b[0m\u001b[30;43mWARN\u001b[0m \u001b[0m\u001b[35mnotsup\u001b[0m SKIPPING OPTIONAL DEPENDENCY: Unsupported platform for @rollup/rollup-android-arm64@4.18.1: wanted {\"os\":\"android\",\"arch\":\"arm64\"} (current: {\"os\":\"linux\",\"arch\":\"x64\"})\n",
            "\u001b[0m\u001b[37;40mnpm\u001b[0m \u001b[0m\u001b[30;43mWARN\u001b[0m \u001b[0m\u001b[35moptional\u001b[0m SKIPPING OPTIONAL DEPENDENCY: @rollup/rollup-darwin-arm64@4.18.1 (node_modules/@rollup/rollup-darwin-arm64):\n",
            "\u001b[0m\u001b[37;40mnpm\u001b[0m \u001b[0m\u001b[30;43mWARN\u001b[0m \u001b[0m\u001b[35mnotsup\u001b[0m SKIPPING OPTIONAL DEPENDENCY: Unsupported platform for @rollup/rollup-darwin-arm64@4.18.1: wanted {\"os\":\"darwin\",\"arch\":\"arm64\"} (current: {\"os\":\"linux\",\"arch\":\"x64\"})\n",
            "\u001b[0m\u001b[37;40mnpm\u001b[0m \u001b[0m\u001b[30;43mWARN\u001b[0m \u001b[0m\u001b[35moptional\u001b[0m SKIPPING OPTIONAL DEPENDENCY: @rollup/rollup-darwin-x64@4.18.1 (node_modules/@rollup/rollup-darwin-x64):\n",
            "\u001b[0m\u001b[37;40mnpm\u001b[0m \u001b[0m\u001b[30;43mWARN\u001b[0m \u001b[0m\u001b[35mnotsup\u001b[0m SKIPPING OPTIONAL DEPENDENCY: Unsupported platform for @rollup/rollup-darwin-x64@4.18.1: wanted {\"os\":\"darwin\",\"arch\":\"x64\"} (current: {\"os\":\"linux\",\"arch\":\"x64\"})\n",
            "\u001b[0m\u001b[37;40mnpm\u001b[0m \u001b[0m\u001b[30;43mWARN\u001b[0m \u001b[0m\u001b[35moptional\u001b[0m SKIPPING OPTIONAL DEPENDENCY: @rollup/rollup-linux-arm-gnueabihf@4.18.1 (node_modules/@rollup/rollup-linux-arm-gnueabihf):\n",
            "\u001b[0m\u001b[37;40mnpm\u001b[0m \u001b[0m\u001b[30;43mWARN\u001b[0m \u001b[0m\u001b[35mnotsup\u001b[0m SKIPPING OPTIONAL DEPENDENCY: Unsupported platform for @rollup/rollup-linux-arm-gnueabihf@4.18.1: wanted {\"os\":\"linux\",\"arch\":\"arm\"} (current: {\"os\":\"linux\",\"arch\":\"x64\"})\n",
            "\u001b[0m\u001b[37;40mnpm\u001b[0m \u001b[0m\u001b[30;43mWARN\u001b[0m \u001b[0m\u001b[35moptional\u001b[0m SKIPPING OPTIONAL DEPENDENCY: @rollup/rollup-linux-arm-musleabihf@4.18.1 (node_modules/@rollup/rollup-linux-arm-musleabihf):\n",
            "\u001b[0m\u001b[37;40mnpm\u001b[0m \u001b[0m\u001b[30;43mWARN\u001b[0m \u001b[0m\u001b[35mnotsup\u001b[0m SKIPPING OPTIONAL DEPENDENCY: Unsupported platform for @rollup/rollup-linux-arm-musleabihf@4.18.1: wanted {\"os\":\"linux\",\"arch\":\"arm\"} (current: {\"os\":\"linux\",\"arch\":\"x64\"})\n",
            "\u001b[0m\u001b[37;40mnpm\u001b[0m \u001b[0m\u001b[30;43mWARN\u001b[0m \u001b[0m\u001b[35moptional\u001b[0m SKIPPING OPTIONAL DEPENDENCY: @rollup/rollup-linux-arm64-gnu@4.18.1 (node_modules/@rollup/rollup-linux-arm64-gnu):\n",
            "\u001b[0m\u001b[37;40mnpm\u001b[0m \u001b[0m\u001b[30;43mWARN\u001b[0m \u001b[0m\u001b[35mnotsup\u001b[0m SKIPPING OPTIONAL DEPENDENCY: Unsupported platform for @rollup/rollup-linux-arm64-gnu@4.18.1: wanted {\"os\":\"linux\",\"arch\":\"arm64\"} (current: {\"os\":\"linux\",\"arch\":\"x64\"})\n",
            "\u001b[0m\u001b[37;40mnpm\u001b[0m \u001b[0m\u001b[30;43mWARN\u001b[0m \u001b[0m\u001b[35moptional\u001b[0m SKIPPING OPTIONAL DEPENDENCY: @rollup/rollup-linux-arm64-musl@4.18.1 (node_modules/@rollup/rollup-linux-arm64-musl):\n",
            "\u001b[0m\u001b[37;40mnpm\u001b[0m \u001b[0m\u001b[30;43mWARN\u001b[0m \u001b[0m\u001b[35mnotsup\u001b[0m SKIPPING OPTIONAL DEPENDENCY: Unsupported platform for @rollup/rollup-linux-arm64-musl@4.18.1: wanted {\"os\":\"linux\",\"arch\":\"arm64\"} (current: {\"os\":\"linux\",\"arch\":\"x64\"})\n",
            "\u001b[0m\u001b[37;40mnpm\u001b[0m \u001b[0m\u001b[30;43mWARN\u001b[0m \u001b[0m\u001b[35moptional\u001b[0m SKIPPING OPTIONAL DEPENDENCY: @rollup/rollup-linux-powerpc64le-gnu@4.18.1 (node_modules/@rollup/rollup-linux-powerpc64le-gnu):\n",
            "\u001b[0m\u001b[37;40mnpm\u001b[0m \u001b[0m\u001b[30;43mWARN\u001b[0m \u001b[0m\u001b[35mnotsup\u001b[0m SKIPPING OPTIONAL DEPENDENCY: Unsupported platform for @rollup/rollup-linux-powerpc64le-gnu@4.18.1: wanted {\"os\":\"linux\",\"arch\":\"ppc64\"} (current: {\"os\":\"linux\",\"arch\":\"x64\"})\n",
            "\u001b[0m\u001b[37;40mnpm\u001b[0m \u001b[0m\u001b[30;43mWARN\u001b[0m \u001b[0m\u001b[35moptional\u001b[0m SKIPPING OPTIONAL DEPENDENCY: @rollup/rollup-linux-riscv64-gnu@4.18.1 (node_modules/@rollup/rollup-linux-riscv64-gnu):\n",
            "\u001b[0m\u001b[37;40mnpm\u001b[0m \u001b[0m\u001b[30;43mWARN\u001b[0m \u001b[0m\u001b[35mnotsup\u001b[0m SKIPPING OPTIONAL DEPENDENCY: Unsupported platform for @rollup/rollup-linux-riscv64-gnu@4.18.1: wanted {\"os\":\"linux\",\"arch\":\"riscv64\"} (current: {\"os\":\"linux\",\"arch\":\"x64\"})\n",
            "\u001b[0m\u001b[37;40mnpm\u001b[0m \u001b[0m\u001b[30;43mWARN\u001b[0m \u001b[0m\u001b[35moptional\u001b[0m SKIPPING OPTIONAL DEPENDENCY: @rollup/rollup-linux-s390x-gnu@4.18.1 (node_modules/@rollup/rollup-linux-s390x-gnu):\n",
            "\u001b[0m\u001b[37;40mnpm\u001b[0m \u001b[0m\u001b[30;43mWARN\u001b[0m \u001b[0m\u001b[35mnotsup\u001b[0m SKIPPING OPTIONAL DEPENDENCY: Unsupported platform for @rollup/rollup-linux-s390x-gnu@4.18.1: wanted {\"os\":\"linux\",\"arch\":\"s390x\"} (current: {\"os\":\"linux\",\"arch\":\"x64\"})\n",
            "\u001b[0m\u001b[37;40mnpm\u001b[0m \u001b[0m\u001b[30;43mWARN\u001b[0m \u001b[0m\u001b[35moptional\u001b[0m SKIPPING OPTIONAL DEPENDENCY: @rollup/rollup-win32-arm64-msvc@4.18.1 (node_modules/@rollup/rollup-win32-arm64-msvc):\n",
            "\u001b[0m\u001b[37;40mnpm\u001b[0m \u001b[0m\u001b[30;43mWARN\u001b[0m \u001b[0m\u001b[35mnotsup\u001b[0m SKIPPING OPTIONAL DEPENDENCY: Unsupported platform for @rollup/rollup-win32-arm64-msvc@4.18.1: wanted {\"os\":\"win32\",\"arch\":\"arm64\"} (current: {\"os\":\"linux\",\"arch\":\"x64\"})\n",
            "\u001b[0m\u001b[37;40mnpm\u001b[0m \u001b[0m\u001b[30;43mWARN\u001b[0m \u001b[0m\u001b[35moptional\u001b[0m SKIPPING OPTIONAL DEPENDENCY: @rollup/rollup-win32-ia32-msvc@4.18.1 (node_modules/@rollup/rollup-win32-ia32-msvc):\n",
            "\u001b[0m\u001b[37;40mnpm\u001b[0m \u001b[0m\u001b[30;43mWARN\u001b[0m \u001b[0m\u001b[35mnotsup\u001b[0m SKIPPING OPTIONAL DEPENDENCY: Unsupported platform for @rollup/rollup-win32-ia32-msvc@4.18.1: wanted {\"os\":\"win32\",\"arch\":\"ia32\"} (current: {\"os\":\"linux\",\"arch\":\"x64\"})\n",
            "\u001b[0m\u001b[37;40mnpm\u001b[0m \u001b[0m\u001b[30;43mWARN\u001b[0m \u001b[0m\u001b[35moptional\u001b[0m SKIPPING OPTIONAL DEPENDENCY: @rollup/rollup-win32-x64-msvc@4.18.1 (node_modules/@rollup/rollup-win32-x64-msvc):\n",
            "\u001b[0m\u001b[37;40mnpm\u001b[0m \u001b[0m\u001b[30;43mWARN\u001b[0m \u001b[0m\u001b[35mnotsup\u001b[0m SKIPPING OPTIONAL DEPENDENCY: Unsupported platform for @rollup/rollup-win32-x64-msvc@4.18.1: wanted {\"os\":\"win32\",\"arch\":\"x64\"} (current: {\"os\":\"linux\",\"arch\":\"x64\"})\n",
            "\u001b[0m\u001b[37;40mnpm\u001b[0m \u001b[0m\u001b[30;43mWARN\u001b[0m \u001b[0m\u001b[35moptional\u001b[0m SKIPPING OPTIONAL DEPENDENCY: fsevents@2.3.3 (node_modules/fsevents):\n",
            "\u001b[0m\u001b[37;40mnpm\u001b[0m \u001b[0m\u001b[30;43mWARN\u001b[0m \u001b[0m\u001b[35mnotsup\u001b[0m SKIPPING OPTIONAL DEPENDENCY: Unsupported platform for fsevents@2.3.3: wanted {\"os\":\"darwin\",\"arch\":\"any\"} (current: {\"os\":\"linux\",\"arch\":\"x64\"})\n",
            "\u001b[0m\n",
            "audited 82 packages in 5.529s\n",
            "\n",
            "5 packages are looking for funding\n",
            "  run `npm fund` for details\n",
            "\n",
            "found \u001b[92m0\u001b[0m vulnerabilities\n",
            "\n",
            "\u001b[K\u001b[?25h\n",
            "> my-vite-project@0.0.0 dev /content/my-vite-project\n",
            "> vite\n",
            "\n",
            "(node:2821) UnhandledPromiseRejectionWarning: SyntaxError: Unexpected token '??='\n",
            "    at Loader.moduleStrategy (internal/modules/esm/translators.js:145:18)\n",
            "(Use `node --trace-warnings ...` to show where the warning was created)\n",
            "(node:2821) UnhandledPromiseRejectionWarning: Unhandled promise rejection. This error originated either by throwing inside of an async function without a catch block, or by rejecting a promise which was not handled with .catch(). To terminate the node process on unhandled promise rejection, use the CLI flag `--unhandled-rejections=strict` (see https://nodejs.org/api/cli.html#cli_unhandled_rejections_mode). (rejection id: 1)\n",
            "(node:2821) [DEP0018] DeprecationWarning: Unhandled promise rejections are deprecated. In the future, promise rejections that are not handled will terminate the Node.js process with a non-zero exit code.\n"
          ]
        }
      ]
    }
  ]
}